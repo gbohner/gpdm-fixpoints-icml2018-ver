{
 "cells": [
  {
   "cell_type": "code",
   "execution_count": null,
   "metadata": {
    "collapsed": false
   },
   "outputs": [],
   "source": [
    "import nbimporter\n",
    "# Import main algorithm\n",
    "from GPDM_direct_fixedpoints import *\n",
    "\n",
    "# %run GPDM_direct_fixedpoints.ipynb"
   ]
  },
  {
   "cell_type": "code",
   "execution_count": null,
   "metadata": {
    "collapsed": true
   },
   "outputs": [],
   "source": [
    "# Saving outputs and timing\n",
    "import pickle, datetime, time"
   ]
  },
  {
   "cell_type": "markdown",
   "metadata": {},
   "source": [
    "# Generate example data"
   ]
  },
  {
   "cell_type": "markdown",
   "metadata": {},
   "source": [
    "# 1D, 2 well example (drift diffusion process)\n"
   ]
  },
  {
   "cell_type": "code",
   "execution_count": null,
   "metadata": {
    "collapsed": true
   },
   "outputs": [],
   "source": [
    "def kwells_true_tr_fnc(xprev_vec, well_locs, Sigma_eps, well_width, slope=1.0, transform_func=(lambda x: x**3), **kwargs):\n",
    "    def well_shape(a):\n",
    "        \"\"\" Function from [0-1] to [0-1], shape of the well\"\"\"\n",
    "        return a**2\n",
    "    xprev_vec = np.atleast_2d(xprev_vec)\n",
    "    out = np.zeros_like(xprev_vec)\n",
    "    for i in range(np.prod(xprev_vec.shape)):\n",
    "        xprev=np.asscalar(xprev_vec[:,i])\n",
    "        \n",
    "        in_well = False\n",
    "        for well_loc in well_locs:\n",
    "            if ((xprev>(well_loc - np.sqrt(Sigma_eps)*well_width)) and (xprev<(well_loc + np.sqrt(Sigma_eps)*well_width))):\n",
    "                rel_dist = transform_func(np.abs(xprev-well_loc)/(np.sqrt(Sigma_eps)*well_width)) # Between 0 and 1, interpolate\n",
    "                out[:,i] = xprev*slope*well_shape(rel_dist) + well_loc*(1-well_shape(rel_dist))\n",
    "                in_well = True\n",
    "                \n",
    "        if in_well == False:\n",
    "            out[:,i] = xprev*slope\n",
    "\n",
    "    return out"
   ]
  },
  {
   "cell_type": "code",
   "execution_count": null,
   "metadata": {
    "collapsed": true
   },
   "outputs": [],
   "source": [
    "def kwells_draw_trial(well_locs, T, Sigma_eps, Sigma_nu, mu_0_0, Sigma_0_0, well_width, **kwargs):\n",
    "    x0 = mu_0_0 + np.sqrt(Sigma_0_0)*np.random.randn(1)\n",
    "    x = np.zeros((1,T))\n",
    "    y = np.zeros((1,T))\n",
    "    for t in range(T):\n",
    "        if t==0:\n",
    "            xprev = x0\n",
    "        else:\n",
    "            xprev = x[:,t-1]\n",
    "\n",
    "        x[:,t] = (kwells_true_tr_fnc(np.atleast_1d(xprev), well_locs, Sigma_eps, well_width, **kwargs)\n",
    "                    + np.sqrt(Sigma_eps)*np.random.randn(1))\n",
    "        \n",
    "        y[:,t] = x[:,t] + np.sqrt(Sigma_nu)*np.random.randn(1)\n",
    "        \n",
    "    return (x,y)    "
   ]
  },
  {
   "cell_type": "code",
   "execution_count": null,
   "metadata": {
    "collapsed": true
   },
   "outputs": [],
   "source": [
    "# rseed = 127\n",
    "# Ny = 30\n",
    "# well_locs = np.array([1.0, -1.0])\n",
    "# T = 10\n",
    "# Sigma_eps = 5e-2\n",
    "# Sigma_nu = 1e-2\n",
    "# mu_0_0 = 0.0\n",
    "# Sigma_0_0 = 1.3e-0\n",
    "# well_width = 3\n",
    "# np.random.seed(rseed)\n",
    "\n",
    "# kwells_params = OrderedDict()\n",
    "# kwells_params[\"rseed\"] = rseed\n",
    "# kwells_params[\"Ny\"] = Ny\n",
    "# kwells_params[\"well_locs\"] = well_locs\n",
    "# kwells_params[\"T\"] = T\n",
    "# kwells_params[\"Sigma_eps\"] = Sigma_eps\n",
    "# kwells_params[\"Sigma_nu\"] = Sigma_nu\n",
    "# kwells_params[\"mu_0_0\"] = mu_0_0\n",
    "# kwells_params[\"Sigma_0_0\"] = Sigma_0_0\n",
    "# kwells_params[\"well_width\"] = well_width\n",
    "\n",
    "# # Collect trials into runnable object\n",
    "# all_trials_x = []\n",
    "# all_trials_y = []\n",
    "# for n in range(Ny):\n",
    "#     x,y = kwells_draw_trial(well_locs, T, Sigma_eps, Sigma_nu, mu_0_0, Sigma_0_0, well_width)\n",
    "    \n",
    "#     all_trials_x.append(x[:,:,None])\n",
    "#     all_trials_y.append(y[:,:,None])\n",
    "\n",
    "\n",
    "# x = np.concatenate(all_trials_x, axis=2)\n",
    "# y = np.concatenate(all_trials_y, axis=2)\n",
    "\n",
    "# plots_by_run = []\n",
    "# for v in range(Ny):\n",
    "#     plots_by_run.append(\n",
    "#         plt_type.Scatter(x=np.squeeze(np.arange(T)), \n",
    "#                       y=np.squeeze(y[:,:,v]), \n",
    "#                       mode='lines')\n",
    "#     )\n",
    "    \n",
    "# plt(plots_by_run)"
   ]
  },
  {
   "cell_type": "code",
   "execution_count": null,
   "metadata": {
    "collapsed": false
   },
   "outputs": [],
   "source": [
    "# # Try to solve the full problem (or some parts of it)\n",
    "# D = 1\n",
    "# Nz = 16\n",
    "# Ns = 2\n",
    "\n",
    "# (Sigma_eps, mu_0_0, Sigma_0_0, C, Sigma_nu, z, u, Sigma_u, lengthscales, kernel_variance, s, J) = \\\n",
    "#     init_params(y, D, Nz, Ns)\n",
    "\n",
    "# # Fix noise to true value\n",
    "# Sigma_nu = kwells_params['Sigma_nu'] * np.ones_like(Sigma_nu)\n",
    "\n",
    "# Sigma_u = 1e-2*np.ones((Nz,1))\n",
    "# Sigma_s = 1e-3*np.ones((Ns,1))\n",
    "# Sigma_J = 1e-3*np.ones((Ns*D,1))\n",
    "\n",
    "    \n",
    "# (init_paramvec, dict_ind, dict_shape) = params_to_vec(Sigma_eps, mu_0_0, Sigma_0_0, C, Sigma_nu, z, u, Sigma_u, \n",
    "#                                                       lengthscales, kernel_variance, s, J, Sigma_s=Sigma_s, Sigma_J=Sigma_J)\n",
    "\n",
    "# # Transform certain elements of the parameter vector to optimise in log space\n",
    "# # log_transformed=None\n",
    "# log_transformed = np.concatenate([dict_ind['Sigma_0_0'], dict_ind['Sigma_u'],\n",
    "#                                   dict_ind['Sigma_s'], dict_ind['Sigma_J'],\n",
    "#                                   dict_ind['lengthscales'], dict_ind['Sigma_eps'], \n",
    "#                                   dict_ind['Sigma_nu'],\n",
    "#                                   dict_ind['kernel_variance']\n",
    "#                                  ])\n",
    "\n",
    "# init_paramvec = log_transform(init_paramvec, log_transformed)\n",
    "\n",
    "# # # Optimise only certain elements of paramvec\n",
    "# opt_params = np.arange(init_paramvec.shape[0])\n",
    "# opt_params = np.delete(opt_params, np.hstack([dict_ind['C'], dict_ind['Sigma_nu']])) # All except the ones listed here\n",
    "# cur_pvec = init_paramvec[opt_params]\n",
    "\n",
    "# # # Optimise only certain elements of paramvec\n",
    "# # opt_params = np.concatenate([dict_ind['s']])\n",
    "# # cur_pvec = init_paramvec[opt_params]\n",
    "# # If want to do all:\n",
    "# # opt_params = np.arange(init_paramvec.shape[0])\n",
    "# # cur_pvec = init_paramvec"
   ]
  },
  {
   "cell_type": "code",
   "execution_count": null,
   "metadata": {
    "collapsed": false
   },
   "outputs": [],
   "source": [
    "# Define a plotting function for callback that shows the current transition function estimate\n",
    "def kwells_callback_plot_external(pvec_partial, \n",
    "                                  opt_params, init_paramvec, transforms, dict_ind, dict_shape,\n",
    "                                  kwells_params\n",
    "                                 ):\n",
    "    \n",
    "    paramvec = replace_params(pvec_partial, opt_params, init_paramvec)\n",
    "    paramdict = vec_to_params(paramvec, dict_ind, dict_shape, transforms)\n",
    "       \n",
    "    # Unpack the usual parameters\n",
    "    (Sigma_eps, mu_0_0, Sigma_0_0, C, Sigma_nu, z, u, Sigma_u, lengthscales, kernel_variance, s, J)  = \\\n",
    "        paramdict.values()[:12]\n",
    "    \n",
    "    if np.any(np.isnan(lengthscales)):\n",
    "        set_trace()\n",
    "    \n",
    "    # Deal with the extra possible parameters\n",
    "    Sigma_s = None; Sigma_J=None;\n",
    "    if 'Sigma_s' in paramdict.keys():\n",
    "        Sigma_s = paramdict['Sigma_s']\n",
    "    if 'Sigma_J' in paramdict.keys():\n",
    "        Sigma_J = paramdict['Sigma_J']\n",
    "        \n",
    "    # Plot transition function\n",
    "    xstar = np.atleast_2d(np.arange(np.min(z)-0.5,np.max(z)+0.5,0.05))\n",
    "\n",
    "    L, targets, params = fp_get_static_K(eta=kernel_variance, lengthscales=lengthscales, z=z, u=u, s=s, J=J, \n",
    "                                         sig_eps=Sigma_eps, sig_u=Sigma_u, sig_s=Sigma_s, sig_J = Sigma_J)\n",
    "    mu_star, sig_star, K_pred = fp_predict(xstar, L, targets, params)\n",
    "\n",
    "    # print(time_full_iter(pvec, y, dict_ind, dict_shape)[0])\n",
    "        \n",
    "    # Get true function values\n",
    "    true_tr_vals = kwells_true_tr_fnc(xstar, **kwells_params)\n",
    "    \n",
    "    #set_trace()\n",
    "    \n",
    "    plt([plt_type.Scatter(x=np.squeeze(xstar), y=np.squeeze(mu_star), mode='markers', name='GP post. mean',\n",
    "                         marker=dict(color='blue')),\n",
    "         plt_type.Scatter(x=np.squeeze(xstar), y=np.squeeze(mu_star)+np.squeeze(np.sqrt(sig_star)), mode='markers', \n",
    "                         marker=dict(size=2, color='blue')),\n",
    "         plt_type.Scatter(x=np.squeeze(xstar), y=np.squeeze(mu_star)-np.squeeze(np.sqrt(sig_star)), mode='markers', \n",
    "                         marker=dict(size=2, color='blue')),      \n",
    "         plt_type.Scatter(x=np.squeeze(xstar), \n",
    "                          y=np.squeeze(true_tr_vals), mode='markers', name = 'True trans. f.',\n",
    "                          marker=dict(color='orange')),\n",
    "         plt_type.Scatter(x=np.squeeze(xstar), \n",
    "                          y=np.squeeze(true_tr_vals+np.sqrt(kwells_params[\"Sigma_eps\"])), mode='markers', name = 'True trans. f.',\n",
    "                          marker=dict(color='orange', size=2)),\n",
    "         plt_type.Scatter(x=np.squeeze(xstar), \n",
    "                          y=np.squeeze(true_tr_vals-np.sqrt(kwells_params[\"Sigma_eps\"])), mode='markers', name = 'True trans. f.',\n",
    "                          marker=dict(color='orange', size=2)),\n",
    "         plt_type.Scatter(x=np.squeeze(z), y=np.squeeze(-2.0*np.ones_like(z)), mode='markers', marker=dict(size=10),\n",
    "                         name = 'Ind point loc'),\n",
    "         plt_type.Scatter(x=np.squeeze(z), y=np.squeeze(u), mode='markers', marker=dict(size=10),\n",
    "                         name = 'Ind point val'),\n",
    "         plt_type.Scatter(x=np.atleast_1d(np.squeeze(s)), y=np.atleast_1d(np.squeeze(s)), mode='markers', marker=dict(size=10),\n",
    "                         name = 'Fixed point')\n",
    "        ])\n",
    "    \n",
    "    \n",
    "def kwells_callback_plot(pvec_partial): \n",
    "    kwells_callback_plot_external(\n",
    "        pvec_partial, \n",
    "        opt_params, init_paramvec, transforms, dict_ind, dict_shape,\n",
    "        kwells_params)"
   ]
  },
  {
   "cell_type": "markdown",
   "metadata": {},
   "source": [
    "## Set up the optimisation\n"
   ]
  },
  {
   "cell_type": "code",
   "execution_count": null,
   "metadata": {
    "collapsed": true
   },
   "outputs": [],
   "source": [
    "# # Add bounds for parameters\n",
    "# bnds = list(((None, None),) * init_paramvec.shape[0])\n",
    "# for i in np.concatenate([dict_ind['Sigma_0_0'], dict_ind['Sigma_nu'], dict_ind['Sigma_eps'],\n",
    "#                         dict_ind['Sigma_u'], dict_ind['Sigma_s'], dict_ind['Sigma_J']]):\n",
    "#     lb = 1e-6; ub = 1e2\n",
    "#     if i in log_transformed:\n",
    "#         lb = np.log(lb)\n",
    "#         ub = np.log(ub)\n",
    "#     bnds[i] = (lb, ub)\n",
    "# for i in np.concatenate([dict_ind['lengthscales'], dict_ind['kernel_variance']]):\n",
    "#     if i in log_transformed:\n",
    "#         lb = init_paramvec[i] + np.log(0.3)\n",
    "#         ub = init_paramvec[i] + np.log(3.0)\n",
    "#     else:\n",
    "#         lb = init_paramvec[i]*0.3 \n",
    "#         ub = init_paramvec[i]*3.\n",
    "#     bnds[i] = (lb, ub)\n",
    "# # cur_dim = 0\n",
    "# # cur_z = 0\n",
    "# # cur_tot = 0\n",
    "# # z_mins = np.min(z, axis=1)\n",
    "# # z_maxs = np.max(z, axis=1)\n",
    "# # for i in np.concatenate([dict_ind['z'], dict_ind['s']]): # Note the idiotic python reshape order for setting bounds per dim\n",
    "# #     z_min = z_mins[cur_dim]\n",
    "# #     z_max = z_maxs[cur_dim]\n",
    "# #     bnds[i] = (z_min-0.05*(z_max-z_min), z_max+0.05*(z_max-z_min))\n",
    "# #     cur_z = cur_z+1\n",
    "# #     if cur_tot < D*Nz:\n",
    "# #         cur_z = np.mod(cur_z, Nz)\n",
    "# #     else:\n",
    "# #         cur_z = np.mod(cur_z, Ns)\n",
    "# #     cur_tot = cur_tot+1\n",
    "# #     if cur_z==0:\n",
    "# #         cur_dim = cur_dim+1\n",
    "# #     if cur_tot==D*Nz:\n",
    "# #         cur_dim = 0\n",
    "# # for i in np.concatenate([dict_ind['J']]):\n",
    "# #     bnds[i] = (-1., 1.)\n",
    "# bnds_final = []\n",
    "# for i in opt_params:\n",
    "#     bnds_final.append(bnds[i])\n",
    "# bnds = tuple(bnds_final)"
   ]
  },
  {
   "cell_type": "code",
   "execution_count": null,
   "metadata": {
    "collapsed": false,
    "scrolled": true
   },
   "outputs": [],
   "source": [
    "# # Add priors (to span at least the bounds)\n",
    "# prior_funcs = list(((None),) * init_paramvec.shape[0])\n",
    "\n",
    "# # # Add a strong prior to learn actual fixed points\n",
    "# # logGamma_prior = create_prior(\"LogGamma\", [2., 0.5, -6.])\n",
    "# # for i in np.concatenate([dict_ind['Sigma_s'], dict_ind['Sigma_J']]):\n",
    "# #     prior_funcs[i] = logGamma_prior\n",
    "    \n",
    "# # tmp_x = np.logspace(-6.0,2,100)    \n",
    "# # plt(plt_type.Figure(data=[plt_type.Scatter(x=tmp_x, y=np.exp(-logGamma_prior(tmp_x)))], layout=plt_type.Layout(xaxis=dict(type= \"log\"))))\n",
    "# # plt(plt_type.Figure(data=[plt_type.Scatter(x=tmp_x, y=logGamma_prior(tmp_x))], layout=plt_type.Layout(xaxis=dict(type= \"log\"))))\n",
    "    "
   ]
  },
  {
   "cell_type": "code",
   "execution_count": null,
   "metadata": {
    "collapsed": false
   },
   "outputs": [],
   "source": [
    "# tmp_func = lambda pvec_partial: (time_full_iter(replace_params(pvec_partial, opt_params, init_paramvec), \n",
    "#                                                 y, dict_ind, dict_shape, \n",
    "#                                                 log_transformed=log_transformed,\n",
    "#                                                 prior_funcs=prior_funcs)[0])\n",
    "# objective_with_grad = value_and_grad(tmp_func, argnum=0)\n",
    "\n",
    "    \n",
    "    \n",
    "# # By iterating minimize within a for cycle, we can save all intermediate results and set ending times\n",
    "# save_fname = \"well_1d_k2_\" + datetime.datetime.now().strftime(\"%Y%m%dT%H%M%S\") + \".pkl\"\n",
    "# init_time = time.time()\n",
    "# max_time = 0.45*3600 # Maximum iteration time in seconds, break if reached\n",
    "# all_results = []"
   ]
  },
  {
   "cell_type": "code",
   "execution_count": null,
   "metadata": {
    "collapsed": false
   },
   "outputs": [],
   "source": [
    "# from autograd.tracer import trace, Node\n",
    "\n",
    "# def make_varname_generator():\n",
    "#     for i in range(65, 91):\n",
    "#         for j in range(3000):\n",
    "#             yield (chr(i) + str(j))\n",
    "#     raise Exception(\"Ran out of alphabet!\")\n",
    "\n",
    "# class PrintNode(Node):\n",
    "#     def __init__(self, value, fun, args, kwargs, parent_argnums, parents):\n",
    "#         self.varname_generator = parents[0].varname_generator\n",
    "#         self.varname = self.varname_generator.next()\n",
    "#         args_or_vars = list(args)\n",
    "#         for argnum, parent in zip(parent_argnums, parents):\n",
    "#             args_or_vars[argnum] = parent.varname\n",
    "#         print '{} = {}({}) = {}'.format(\n",
    "#             self.varname, fun.__name__, ','.join(map(str, args_or_vars)), value)\n",
    "\n",
    "#     def initialize_root(self, x):\n",
    "#         self.varname_generator = make_varname_generator()\n",
    "#         self.varname = self.varname_generator.next()\n",
    "#         print '{} = {}'.format(self.varname, x)\n",
    "\n",
    "# def print_trace(f, x):\n",
    "#     start_node = PrintNode.new_root(x)\n",
    "#     trace(start_node, f, x)\n",
    "#     print\n",
    "    \n",
    "# val_orig = tmp_func(cur_pvec)[0,0]"
   ]
  },
  {
   "cell_type": "code",
   "execution_count": null,
   "metadata": {
    "collapsed": false
   },
   "outputs": [],
   "source": [
    "# for it in range(100):\n",
    "#     result = scipy.optimize.minimize(objective_with_grad, cur_pvec, jac=True, method='L-BFGS-B', bounds=bnds, callback=None,\n",
    "#                           options={'maxiter':1, 'disp':True})\n",
    "#     all_results.append(result)\n",
    "#     # Save the results\n",
    "#     with open(save_fname, 'wb') as f:\n",
    "#         pickle.dump([y, x, kwells_params,\n",
    "#                      all_results, \n",
    "#                      init_paramvec, dict_ind, dict_shape, opt_params, \n",
    "#                      bnds, log_transformed], f)\n",
    "#     cur_pvec = result.x\n",
    "#     cur_time = time.time()\n",
    "#     print([it, cur_time - init_time, result.fun])\n",
    "#     kwells_callback_plot(cur_pvec)\n",
    "    \n",
    "#     # Exit if maximum time is reached\n",
    "    \n",
    "#     if ((cur_time - init_time) > max_time):\n",
    "#         print([\"Maximum iteration time reached at iter\", it])\n",
    "#         break\n",
    "        \n",
    "#     if len(all_results)>=2:\n",
    "#         if (all_results[-1].fun - all_results[-2].fun) >= -1e-1:\n",
    "#             print([\"Update did not improve objective function, stopping\"])\n",
    "#             break"
   ]
  },
  {
   "cell_type": "markdown",
   "metadata": {},
   "source": [
    "# Analyse performance"
   ]
  },
  {
   "cell_type": "code",
   "execution_count": null,
   "metadata": {
    "collapsed": false
   },
   "outputs": [],
   "source": [
    "# # Generate test data\n",
    "\n",
    "# kwells_params_test = kwells_params\n",
    "# kwells_params_test['Sigma_0_0']= 0.5e-0\n",
    "\n",
    "# np.random.seed(kwells_params['rseed']+1)\n",
    "\n",
    "# Ny_test = 350\n",
    "# test_trials_x = []\n",
    "# test_trials_y = []\n",
    "# for n in range(Ny_test):\n",
    "#     x1,y1 = kwells_draw_trial(**kwells_params_test)\n",
    "    \n",
    "#     test_trials_x.append(x1[:,:,None])\n",
    "#     test_trials_y.append(y1[:,:,None])\n",
    "\n",
    "# x_test = np.concatenate(test_trials_x, axis=2)\n",
    "# y_test = np.concatenate(test_trials_y, axis=2)"
   ]
  },
  {
   "cell_type": "code",
   "execution_count": null,
   "metadata": {
    "collapsed": false
   },
   "outputs": [],
   "source": [
    "# # Get final GP parameter vector\n",
    "# final_paramvec = log_transform_inv(replace_params(all_results[-1].x, opt_params, init_paramvec), log_transformed)\n",
    "\n",
    "# cutoff = 4\n",
    "\n",
    "# # Get GP predictions on test data\n",
    "# results_GP = pred_GP(y_test, final_paramvec, dict_ind, dict_shape, cutoff = None)\n",
    "# results_GP_cutoff = pred_GP(y_test, final_paramvec, dict_ind, dict_shape, cutoff = cutoff)"
   ]
  },
  {
   "cell_type": "code",
   "execution_count": null,
   "metadata": {
    "collapsed": false
   },
   "outputs": [],
   "source": [
    "# # Get AR prediction as baseline\n",
    "# results_AR = pred_lin_AR1(y_test, y)\n",
    "# results_AR_cutoff = pred_lin_AR1(y_test, y, cutoff=cutoff)"
   ]
  },
  {
   "cell_type": "code",
   "execution_count": null,
   "metadata": {
    "collapsed": false
   },
   "outputs": [],
   "source": [
    "# # Get RMSE values\n",
    "# RMSE_AR = rmse(results_AR, y_test, axis=(0,2))\n",
    "# RMSE_AR_cutoff = rmse(results_AR_cutoff, y_test, axis=(0,2))\n",
    "# RMSE_GP = rmse(results_GP[1], y_test, axis=(0,2))\n",
    "# RMSE_GP_cutoff = rmse(results_GP_cutoff[1], y_test, axis=(0,2))\n",
    "\n",
    "# plt([\n",
    "#         plt_type.Scatter(y=np.squeeze(RMSE_AR), name='RMSE_AR'),\n",
    "#         plt_type.Scatter(y=np.squeeze(RMSE_GP), name='RMSE_GP'),\n",
    "#         plt_type.Scatter(y=np.squeeze(RMSE_AR_cutoff), name='RMSE_AR_cutoff'),\n",
    "#         plt_type.Scatter(y=np.squeeze(RMSE_GP_cutoff), name='RMSE_GP_cutoff')\n",
    "#     ])"
   ]
  }
 ],
 "metadata": {
  "kernelspec": {
   "display_name": "Python 2",
   "language": "python",
   "name": "python2"
  },
  "language_info": {
   "codemirror_mode": {
    "name": "ipython",
    "version": 2
   },
   "file_extension": ".py",
   "mimetype": "text/x-python",
   "name": "python",
   "nbconvert_exporter": "python",
   "pygments_lexer": "ipython2",
   "version": "2.7.13"
  }
 },
 "nbformat": 4,
 "nbformat_minor": 2
}
