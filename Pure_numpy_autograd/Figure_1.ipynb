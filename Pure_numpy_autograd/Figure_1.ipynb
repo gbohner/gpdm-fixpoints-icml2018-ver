{
 "cells": [
  {
   "cell_type": "code",
   "execution_count": 4,
   "metadata": {
    "collapsed": true
   },
   "outputs": [],
   "source": [
    "import numpy as np"
   ]
  },
  {
   "cell_type": "code",
   "execution_count": 5,
   "metadata": {
    "collapsed": true
   },
   "outputs": [],
   "source": [
    "def bifurc_trans_func(x, slope):\n",
    "    return slope*x - x**3"
   ]
  },
  {
   "cell_type": "code",
   "execution_count": 6,
   "metadata": {
    "collapsed": true
   },
   "outputs": [],
   "source": [
    "def bifurc_draw_trial(T, mu_0_0, Sigma_0_0, slope, maxval, Sigma_eps, Sigma_nu, **kwargs):\n",
    "    x0 = mu_0_0 + np.sqrt(Sigma_0_0)*np.random.randn(1)\n",
    "    x = np.zeros((1,T))\n",
    "    y = np.zeros((1,T))\n",
    "    for t in range(T):\n",
    "        if t==0:\n",
    "            xprev = x0\n",
    "        else:\n",
    "            xprev = x[:,t-1]\n",
    "\n",
    "        x[:,t] =  (bifurc_trans_func(xprev, slope)\n",
    "                    + np.sqrt(Sigma_eps)*np.random.randn(1))\n",
    "        \n",
    "        y[:,t] = x[:,t] + np.sqrt(Sigma_nu)*np.random.randn(1)\n",
    "        \n",
    "    return (x,y) "
   ]
  },
  {
   "cell_type": "code",
   "execution_count": null,
   "metadata": {
    "collapsed": true
   },
   "outputs": [],
   "source": []
  },
  {
   "cell_type": "code",
   "execution_count": null,
   "metadata": {
    "collapsed": true
   },
   "outputs": [],
   "source": []
  },
  {
   "cell_type": "code",
   "execution_count": null,
   "metadata": {
    "collapsed": true
   },
   "outputs": [],
   "source": []
  },
  {
   "cell_type": "code",
   "execution_count": 35,
   "metadata": {
    "collapsed": true
   },
   "outputs": [],
   "source": [
    "def save_csv(fname, arr):\n",
    "    f_handle = open(\"../../Text/ICML2018/FIGURES/CSV/\"+fname, 'wb')\n",
    "    np.savetxt(f_handle, arr, delimiter=\",\")\n",
    "    f_handle.close()"
   ]
  },
  {
   "cell_type": "markdown",
   "metadata": {},
   "source": [
    "# Figure 1A - Create noiseless bifurc plot"
   ]
  },
  {
   "cell_type": "code",
   "execution_count": 37,
   "metadata": {
    "collapsed": false
   },
   "outputs": [],
   "source": [
    "# Bifurc plot is x = 0 is stable until r=1, then unstable\n",
    "# From r=1 to 2, +-sqrt(r-1) is stable, then above 2 unstable\n",
    "\n",
    "# Export the lines to CSV\n",
    "\n",
    "# Line1 0<r<1\n",
    "r = np.arange(0,1,0.01)[:,None]\n",
    "x = 0.*r\n",
    "save_csv(\"figure1_panel1_line1.csv\", np.concatenate([r,x],axis=1))\n",
    "\n",
    "# Line2 1<r<2.5, x=0\n",
    "r = np.arange(1,2.5,0.01)[:,None]\n",
    "x = 0.*r\n",
    "save_csv(\"figure1_panel1_line2.csv\", np.concatenate([r,x],axis=1))\n",
    "\n",
    "# Line3 1<r<2, x=+np.sqrt(r-1)\n",
    "r = np.arange(1,2,0.01)[:,None]\n",
    "x = np.sqrt(r-1)\n",
    "save_csv(\"figure1_panel1_line3.csv\", np.concatenate([r,x],axis=1))\n",
    "\n",
    "# Line4 1<r<2, x=-np.sqrt(r-1)\n",
    "r = np.arange(1,2,0.01)[:,None]\n",
    "x = -1.*np.sqrt(r-1)\n",
    "save_csv(\"figure1_panel1_line4.csv\", np.concatenate([r,x],axis=1))\n",
    "\n",
    "# Line5 1<r<2, x=+np.sqrt(r-1)\n",
    "r = np.arange(2,2.5,0.01)[:,None]\n",
    "x = np.sqrt(r-1)\n",
    "save_csv(\"figure1_panel1_line5.csv\", np.concatenate([r,x],axis=1))\n",
    "\n",
    "# Line6 1<r<2, x=-np.sqrt(r-1)\n",
    "r = np.arange(2,2.5,0.01)[:,None]\n",
    "x = -1.*np.sqrt(r-1)\n",
    "save_csv(\"figure1_panel1_line6.csv\", np.concatenate([r,x],axis=1))"
   ]
  },
  {
   "cell_type": "markdown",
   "metadata": {},
   "source": [
    "# Figure 1B - Show transition function at particular r"
   ]
  },
  {
   "cell_type": "code",
   "execution_count": 46,
   "metadata": {
    "collapsed": true
   },
   "outputs": [],
   "source": [
    "cur_slope = 1.15\n",
    "# Line 1 - Transition func\n",
    "x0 = np.arange(-1.3, 1.3, 0.01)[:,None]\n",
    "x1 = bifurc_trans_func(x0, slope=cur_slope)\n",
    "save_csv(\"figure1_panel2_line1.csv\", np.concatenate([x0,x1],axis=1))\n",
    "\n",
    "# Line 2 - Straight line\n",
    "x0 = np.arange(-1.0, 1.0, 0.01)[:,None]\n",
    "x1 = x0\n",
    "save_csv(\"figure1_panel2_line2.csv\", np.concatenate([x0,x1],axis=1))\n",
    "\n",
    "# Line 3 - Scatter, stable fixed points\n",
    "x0 = np.sqrt(cur_slope-1.)*np.array([[1.,-1.]]).T\n",
    "x1 = x0\n",
    "save_csv(\"figure1_panel2_line3.csv\", np.concatenate([x0,x1],axis=1))\n",
    "\n",
    "# Line 4 - Scatter, unstable fixed point\n",
    "x0 = np.array([[0.]])\n",
    "x1 = x0\n",
    "save_csv(\"figure1_panel2_line4.csv\", np.concatenate([x0,x1],axis=1))"
   ]
  },
  {
   "cell_type": "code",
   "execution_count": null,
   "metadata": {
    "collapsed": true
   },
   "outputs": [],
   "source": []
  },
  {
   "cell_type": "markdown",
   "metadata": {},
   "source": [
    "# Figure 1C - Show single trial drawn for large T"
   ]
  },
  {
   "cell_type": "code",
   "execution_count": 65,
   "metadata": {
    "collapsed": false
   },
   "outputs": [],
   "source": [
    "# Line 1 - trial drawn\n",
    "np.random.seed(1234)\n",
    "maxT = 1000\n",
    "[x, y] = bifurc_draw_trial(T=maxT, mu_0_0=0, Sigma_0_0=1e-2, slope=1.15, maxval=1.0, Sigma_eps=0.2**2, Sigma_nu=0.05**2)\n",
    "save_csv(\"figure1_panel3_line1.csv\", np.concatenate([np.arange(maxT)[:,None], x.T],axis=1))\n",
    "\n",
    "\n",
    "# Line 2 - Fine bin histogram\n",
    "hist_bins = np.arange(-1, 1.01, 0.02)\n",
    "hist_vals = np.histogram(x.flatten(), bins=hist_bins)\n",
    "save_csv(\"figure1_panel3_line2.csv\", np.concatenate([hist_vals[0][:,None], hist_bins[:-1,None]+0.01],axis=1))\n"
   ]
  },
  {
   "cell_type": "code",
   "execution_count": 70,
   "metadata": {
    "collapsed": false
   },
   "outputs": [
    {
     "data": {
      "text/plain": [
       "0.0"
      ]
     },
     "execution_count": 70,
     "metadata": {},
     "output_type": "execute_result"
    }
   ],
   "source": [
    "np.min(hist_vals[0])"
   ]
  }
 ],
 "metadata": {
  "kernelspec": {
   "display_name": "Python 2",
   "language": "python",
   "name": "python2"
  },
  "language_info": {
   "codemirror_mode": {
    "name": "ipython",
    "version": 2
   },
   "file_extension": ".py",
   "mimetype": "text/x-python",
   "name": "python",
   "nbconvert_exporter": "python",
   "pygments_lexer": "ipython2",
   "version": "2.7.13"
  }
 },
 "nbformat": 4,
 "nbformat_minor": 2
}
