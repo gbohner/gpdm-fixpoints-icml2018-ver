{
 "cells": [
  {
   "cell_type": "markdown",
   "metadata": {},
   "source": [
    "# Simulate a delayed Ricker's difference equation\n",
    "\n",
    "Following Artem Novozhilov 484/684 chapter 22\n",
    "\n",
    "$$ N_{t+1} = N_t e^{r\\left(1-\\frac{N_{t-1}}{K}\\right)} $$\n",
    "\n",
    "Let $u_t=N_t/K$, such that\n",
    "\n",
    "$$ u_{t+1}=u_t e^{r\\left(1-u_{t-1}\\right)}$$\n",
    "\n",
    "Now let $x_1(t) = u_t$ and $x_2(t) = u_{t-1}$, so we have a 2D discrete dynamical system:\n",
    "\n",
    "$$ x_1(t+1) = x_1(t) e^{r\\left(1-x_2(t)\\right)} + \\epsilon$$\n",
    "$$ x_2(t+1) = x_1(t) + \\epsilon$$\n",
    "\n",
    "\n",
    "$$ \\mathbf{y}(t) = \\mathbf{C} \\mathbf{x}(t) + \\mathbf{\\eta} $$\n",
    "\n",
    "Adding transition noise to x and observation noise to y, "
   ]
  },
  {
   "cell_type": "code",
   "execution_count": 5,
   "metadata": {
    "collapsed": false
   },
   "outputs": [
    {
     "name": "stdout",
     "output_type": "stream",
     "text": [
      "Importing Jupyter notebook from GPDM_direct_fixedpoints.ipynb\n"
     ]
    },
    {
     "name": "stderr",
     "output_type": "stream",
     "text": [
      "/nfs/nhome/live/gbohner/anaconda2/lib/python2.7/site-packages/matplotlib/font_manager.py:273: UserWarning:\n",
      "\n",
      "Matplotlib is building the font cache using fc-list. This may take a moment.\n",
      "\n"
     ]
    }
   ],
   "source": [
    "import nbimporter\n",
    "# Import main algorithm\n",
    "from GPDM_direct_fixedpoints import *\n",
    "\n",
    "# Import saving tools\n",
    "import pickle, datetime, time"
   ]
  },
  {
   "cell_type": "code",
   "execution_count": 73,
   "metadata": {
    "collapsed": false
   },
   "outputs": [],
   "source": [
    "# Set parameters\n",
    "ricker_params = OrderedDict()\n",
    "ricker_params[\"rseed\"] = 1234\n",
    "ricker_params[\"Ny\"] = 3\n",
    "ricker_params[\"T\"] = 40\n",
    "ricker_params[\"r\"] = 0.2\n",
    "ricker_params[\"Sigma_eps\"] = np.array([1e-6, 1e-6])\n",
    "ricker_params[\"Sigma_nu\"] = np.array([1e-6, 1e-6])\n",
    "ricker_params[\"mu_0_0\"] = np.array([-1e-2, 1e-2])\n",
    "ricker_params[\"Sigma_0_0\"] = np.array([1e-3, 1e-3])"
   ]
  },
  {
   "cell_type": "code",
   "execution_count": 74,
   "metadata": {
    "collapsed": true
   },
   "outputs": [],
   "source": [
    "def ricker_draw_trial(mu_0_0, Sigma_0_0, Sigma_eps, Sigma_nu, r, T, **kwargs):\n",
    "    x0 = np.abs(mu_0_0 + np.sqrt(Sigma_0_0)*np.random.randn(2))\n",
    "    x = np.zeros((2,T))\n",
    "    y = np.zeros((2,T))\n",
    "    for t in range(T):\n",
    "        if t==0:\n",
    "            xprev = x0\n",
    "        else:\n",
    "            xprev = x[:,t-1]\n",
    "\n",
    "        x[0,t] = xprev[0]*np.exp(r*(1-xprev[1])) + np.sqrt(Sigma_eps[0])*np.random.randn(1)\n",
    "        x[1,t] = xprev[0] + np.sqrt(Sigma_eps[1])*np.random.randn(1)\n",
    "        \n",
    "        y[:,t] = x[:,t] + np.sqrt(Sigma_nu)*np.random.randn(2)\n",
    "        \n",
    "    return (x,y)"
   ]
  },
  {
   "cell_type": "code",
   "execution_count": 121,
   "metadata": {
    "collapsed": false
   },
   "outputs": [
    {
     "data": {
      "text/plain": [
       "(array([[ 0.02548758,  0.03176098,  0.04056939,  0.05016159,  0.05960109,\n",
       "          0.07475678,  0.09093167,  0.1077118 ,  0.12725118,  0.15300724,\n",
       "          0.1820506 ,  0.21574451,  0.25431248,  0.29711911,  0.34601429,\n",
       "          0.39758721,  0.45345297,  0.51081367,  0.56992618,  0.62779114,\n",
       "          0.68580073,  0.73914337,  0.78807511,  0.82981911,  0.86564626,\n",
       "          0.89590472,  0.92089589,  0.94161744,  0.95672321,  0.96622853,\n",
       "          0.97516342,  0.98064724,  0.98507774,  0.98942084,  0.99343505,\n",
       "          0.99656677,  0.99761856,  0.99972523,  1.00199186,  1.00306021],\n",
       "        [ 0.02266366,  0.02552089,  0.03047767,  0.03930992,  0.04906888,\n",
       "          0.06054223,  0.0761966 ,  0.09185964,  0.1086913 ,  0.12753451,\n",
       "          0.15336957,  0.18341928,  0.21410471,  0.25219631,  0.29557016,\n",
       "          0.34874604,  0.39598069,  0.45376152,  0.50977697,  0.57134071,\n",
       "          0.62610653,  0.68584772,  0.73873421,  0.78888891,  0.82936833,\n",
       "          0.8644223 ,  0.89512638,  0.91863988,  0.94059256,  0.95533872,\n",
       "          0.96658759,  0.97281978,  0.98246186,  0.98557678,  0.98916718,\n",
       "          0.9944874 ,  0.99656026,  0.99661212,  0.99759675,  1.00089044]]),\n",
       " array([[ 0.02600971,  0.03181539,  0.04192817,  0.05048085,  0.0579477 ,\n",
       "          0.07482848,  0.09296227,  0.10727393,  0.12640845,  0.15308276,\n",
       "          0.18183689,  0.21551303,  0.25472504,  0.29627361,  0.34739333,\n",
       "          0.39881934,  0.45189135,  0.51044002,  0.56899391,  0.62755311,\n",
       "          0.68594328,  0.73946083,  0.78789309,  0.82931757,  0.86238019,\n",
       "          0.89730483,  0.91949118,  0.94200497,  0.9564835 ,  0.9665369 ,\n",
       "          0.97685844,  0.98064736,  0.98587269,  0.99048196,  0.99373476,\n",
       "          0.99523122,  0.99670249,  1.00005676,  1.00251746,  1.00420475],\n",
       "        [ 0.02305481,  0.02460777,  0.03089184,  0.03821384,  0.04816415,\n",
       "          0.05985388,  0.07505008,  0.09133786,  0.10721626,  0.12827612,\n",
       "          0.15283358,  0.18455861,  0.21232202,  0.2510675 ,  0.29686058,\n",
       "          0.34813799,  0.39724867,  0.45386315,  0.51015603,  0.57134815,\n",
       "          0.62772506,  0.68602299,  0.73742897,  0.78790587,  0.8285586 ,\n",
       "          0.86520156,  0.8950309 ,  0.91822037,  0.94029163,  0.95668445,\n",
       "          0.96806564,  0.97455464,  0.98307888,  0.98596725,  0.98848916,\n",
       "          0.99464716,  0.99675743,  0.99886879,  0.99908409,  0.99913308]]))"
      ]
     },
     "execution_count": 121,
     "metadata": {},
     "output_type": "execute_result"
    }
   ],
   "source": [
    "ricker_draw_trial(**ricker_params)"
   ]
  },
  {
   "cell_type": "code",
   "execution_count": null,
   "metadata": {
    "collapsed": true
   },
   "outputs": [],
   "source": []
  },
  {
   "cell_type": "code",
   "execution_count": null,
   "metadata": {
    "collapsed": true
   },
   "outputs": [],
   "source": []
  }
 ],
 "metadata": {
  "kernelspec": {
   "display_name": "Python 2",
   "language": "python",
   "name": "python2"
  },
  "language_info": {
   "codemirror_mode": {
    "name": "ipython",
    "version": 2
   },
   "file_extension": ".py",
   "mimetype": "text/x-python",
   "name": "python",
   "nbconvert_exporter": "python",
   "pygments_lexer": "ipython2",
   "version": "2.7.13"
  }
 },
 "nbformat": 4,
 "nbformat_minor": 2
}
